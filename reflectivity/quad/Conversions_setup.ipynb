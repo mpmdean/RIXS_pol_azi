{
 "cells": [
  {
   "cell_type": "code",
   "execution_count": 1,
   "metadata": {
    "collapsed": true
   },
   "outputs": [],
   "source": [
    "import numpy as np"
   ]
  },
  {
   "cell_type": "markdown",
   "metadata": {},
   "source": [
    "## Calculate scattering factors from refractive index"
   ]
  },
  {
   "cell_type": "code",
   "execution_count": 29,
   "metadata": {
    "collapsed": true
   },
   "outputs": [],
   "source": [
    "def index_to_factor(del_or_beta, m_A, rho):\n",
    "    f = (2* np.pi * m_A * del_or_beta) / (rho * N_A * r_e * lam**2)\n",
    "    return f\n",
    "\n",
    "E = 931.\n",
    "lam = 1.2398e4/E    # Angstroms\n",
    "r_e = 2.8179403e-5  # electron radius angstroms\n",
    "N_A = 6.02214129e23 #atoms/mol\n",
    "\n",
    "def effecitve_lattice_const(M_a, rho):\n",
    "    return np.cbrt(1 / (rho  / (M_a/N_A)))"
   ]
  },
  {
   "cell_type": "code",
   "execution_count": 28,
   "metadata": {
    "collapsed": false
   },
   "outputs": [
    {
     "data": {
      "text/plain": [
       "2.69304347352488"
      ]
     },
     "execution_count": 28,
     "metadata": {},
     "output_type": "execute_result"
    }
   ],
   "source": [
    "lcW = 11.681;\n",
    "rho = 15.63 *1e-24 #g/Ang^3\n",
    "M_a = 183.84 #g/mol\n",
    "\n",
    "\n",
    "atom_spacing = np.cbrt(1 / (rho  / (M_a/N_A)))\n",
    "atom_spacing"
   ]
  },
  {
   "cell_type": "code",
   "execution_count": 36,
   "metadata": {
    "collapsed": false
   },
   "outputs": [
    {
     "name": "stdout",
     "output_type": "stream",
     "text": [
      "W f1 = 45.665 f2 = 16.281 a = 2.693 atoms = 82.0\n"
     ]
    }
   ],
   "source": [
    "element = 'W'\n",
    "beta = 6.62994E-04\n",
    "delta = 1.85955E-03\n",
    "rho = 15.63 *1e-24 #g/Ang^3\n",
    "M_a = 183.84 #g/mol\n",
    "LC = 11.681\n",
    "\n",
    "a = effecitve_lattice_const(M_a, rho)\n",
    "num_atoms = np.round((LC/a)**3)\n",
    "\n",
    "f1 = index_to_factor(delta, M_a, rho)\n",
    "f2 = index_to_factor(beta, M_a, rho)\n",
    "print(\"{} f1 = {:.3f} f2 = {:.3f} a = {:.3f} atoms = {}\".format(element, f1, f2, a, num_atoms))\n",
    "\n"
   ]
  },
  {
   "cell_type": "code",
   "execution_count": 46,
   "metadata": {
    "collapsed": false
   },
   "outputs": [
    {
     "name": "stdout",
     "output_type": "stream",
     "text": [
      "B4C f1 = 0.403 f2 = 5.496 a = 1.942 atoms = 218.0\n"
     ]
    }
   ],
   "source": [
    "element = 'B4C'\n",
    "beta = 5.97217E-04\n",
    "delta = 4.38138E-05\n",
    "rho = 2.52 *1e-24 #g/Ang^3\n",
    "M_a = 10.811*0.75 + 12*0.25 #g/mol\n",
    "LC = 11.681\n",
    "\n",
    "a = effecitve_lattice_const(M_a, rho)\n",
    "num_atoms = np.round((LC/a)**3)\n",
    "\n",
    "f1 = index_to_factor(delta, M_a, rho)\n",
    "f2 = index_to_factor(beta, M_a, rho)\n",
    "print(\"{} f1 = {:.3f} f2 = {:.3f} a = {:.3f} atoms = {}\".format(element, f1, f2, a, num_atoms))\n",
    "\n"
   ]
  },
  {
   "cell_type": "code",
   "execution_count": 45,
   "metadata": {
    "collapsed": false
   },
   "outputs": [
    {
     "name": "stdout",
     "output_type": "stream",
     "text": [
      "Si f1 = 0.434 f2 = 5.124 a = 1.994 atoms = 218.0\n"
     ]
    }
   ],
   "source": [
    "element = 'Si'\n",
    "beta = 5.14360E-04\n",
    "delta = 4.35751E-05\n",
    "rho = 2.328 *1e-24 #g/Ang^3\n",
    "M_a = 10.811*0.75 + 12*0.25 #g/mol\n",
    "\n",
    "a = effecitve_lattice_const(M_a, rho)\n",
    "\n",
    "f1 = index_to_factor(delta, M_a, rho)\n",
    "f2 = index_to_factor(beta, M_a, rho)\n",
    "print(\"{} f1 = {:.3f} f2 = {:.3f} a = {:.3f}\".format(element, f1, f2, a))"
   ]
  },
  {
   "cell_type": "markdown",
   "metadata": {},
   "source": [
    "## Make random atom positions"
   ]
  },
  {
   "cell_type": "code",
   "execution_count": 43,
   "metadata": {
    "collapsed": false
   },
   "outputs": [
    {
     "name": "stdout",
     "output_type": "stream",
     "text": [
      "quad.slab.AddAtom(0, atomW, Vec3(0.711, 0.891, 0.607));\n",
      "quad.slab.AddAtom(0, atomW, Vec3(0.996, 0.443, 0.476));\n",
      "quad.slab.AddAtom(0, atomW, Vec3(0.046, 0.102, 0.982));\n",
      "quad.slab.AddAtom(0, atomW, Vec3(0.481, 0.675, 0.175));\n",
      "quad.slab.AddAtom(0, atomW, Vec3(0.337, 0.446, 0.935));\n",
      "quad.slab.AddAtom(0, atomW, Vec3(0.467, 0.897, 0.076));\n",
      "quad.slab.AddAtom(0, atomW, Vec3(0.118, 0.911, 0.299));\n",
      "quad.slab.AddAtom(0, atomW, Vec3(0.300, 0.025, 0.777));\n",
      "quad.slab.AddAtom(0, atomW, Vec3(0.938, 0.028, 0.597));\n",
      "quad.slab.AddAtom(0, atomW, Vec3(0.118, 0.642, 0.825));\n",
      "quad.slab.AddAtom(0, atomW, Vec3(0.741, 0.439, 0.259));\n",
      "quad.slab.AddAtom(0, atomW, Vec3(0.877, 0.342, 0.905));\n",
      "quad.slab.AddAtom(0, atomW, Vec3(0.783, 0.848, 0.970));\n",
      "quad.slab.AddAtom(0, atomW, Vec3(0.041, 0.879, 0.377));\n",
      "quad.slab.AddAtom(0, atomW, Vec3(0.291, 0.847, 0.070));\n",
      "quad.slab.AddAtom(0, atomW, Vec3(0.944, 0.500, 0.185));\n",
      "quad.slab.AddAtom(0, atomW, Vec3(0.418, 0.234, 0.324));\n",
      "quad.slab.AddAtom(0, atomW, Vec3(0.504, 0.238, 0.060));\n",
      "quad.slab.AddAtom(0, atomW, Vec3(0.934, 0.043, 0.624));\n",
      "quad.slab.AddAtom(0, atomW, Vec3(0.843, 0.934, 0.277));\n",
      "quad.slab.AddAtom(0, atomW, Vec3(0.323, 0.174, 0.846));\n",
      "quad.slab.AddAtom(0, atomW, Vec3(0.456, 0.664, 0.812));\n",
      "quad.slab.AddAtom(0, atomW, Vec3(0.200, 0.292, 0.465));\n",
      "quad.slab.AddAtom(0, atomW, Vec3(0.599, 0.654, 0.350));\n",
      "quad.slab.AddAtom(0, atomW, Vec3(0.100, 0.746, 0.235));\n",
      "quad.slab.AddAtom(0, atomW, Vec3(0.229, 0.011, 0.127));\n",
      "quad.slab.AddAtom(0, atomW, Vec3(0.406, 0.098, 0.248));\n",
      "quad.slab.AddAtom(0, atomW, Vec3(0.833, 0.891, 0.124));\n",
      "quad.slab.AddAtom(0, atomW, Vec3(0.818, 0.701, 0.998));\n",
      "quad.slab.AddAtom(0, atomW, Vec3(0.872, 0.489, 0.782));\n",
      "quad.slab.AddAtom(0, atomW, Vec3(0.181, 0.389, 0.510));\n",
      "quad.slab.AddAtom(0, atomW, Vec3(0.577, 0.452, 0.706));\n",
      "quad.slab.AddAtom(0, atomW, Vec3(0.342, 0.048, 0.451));\n",
      "quad.slab.AddAtom(0, atomW, Vec3(0.804, 0.617, 0.711));\n",
      "quad.slab.AddAtom(0, atomW, Vec3(0.834, 0.725, 0.699));\n",
      "quad.slab.AddAtom(0, atomW, Vec3(0.628, 0.598, 0.606));\n",
      "quad.slab.AddAtom(0, atomW, Vec3(0.464, 0.580, 0.630));\n",
      "quad.slab.AddAtom(0, atomW, Vec3(0.096, 0.985, 0.182));\n",
      "quad.slab.AddAtom(0, atomW, Vec3(0.098, 0.244, 0.759));\n",
      "quad.slab.AddAtom(0, atomW, Vec3(0.582, 0.415, 0.065));\n",
      "quad.slab.AddAtom(0, atomW, Vec3(0.901, 0.210, 0.681));\n",
      "quad.slab.AddAtom(0, atomW, Vec3(0.558, 0.002, 0.370));\n",
      "quad.slab.AddAtom(0, atomW, Vec3(0.273, 0.259, 0.532));\n",
      "quad.slab.AddAtom(0, atomW, Vec3(0.887, 0.721, 0.234));\n",
      "quad.slab.AddAtom(0, atomW, Vec3(0.122, 0.651, 0.650));\n",
      "quad.slab.AddAtom(0, atomW, Vec3(0.337, 0.683, 0.368));\n",
      "quad.slab.AddAtom(0, atomW, Vec3(0.361, 0.447, 0.121));\n",
      "quad.slab.AddAtom(0, atomW, Vec3(0.116, 0.396, 0.769));\n",
      "quad.slab.AddAtom(0, atomW, Vec3(0.570, 0.687, 0.537));\n",
      "quad.slab.AddAtom(0, atomW, Vec3(0.497, 0.313, 0.829));\n",
      "quad.slab.AddAtom(0, atomW, Vec3(0.826, 0.234, 0.396));\n",
      "quad.slab.AddAtom(0, atomW, Vec3(0.771, 0.215, 0.303));\n",
      "quad.slab.AddAtom(0, atomW, Vec3(0.673, 0.088, 0.702));\n",
      "quad.slab.AddAtom(0, atomW, Vec3(0.819, 0.253, 0.734));\n",
      "quad.slab.AddAtom(0, atomW, Vec3(0.161, 0.384, 0.704));\n",
      "quad.slab.AddAtom(0, atomW, Vec3(0.186, 0.033, 0.731));\n",
      "quad.slab.AddAtom(0, atomW, Vec3(0.221, 0.390, 0.886));\n",
      "quad.slab.AddAtom(0, atomW, Vec3(0.264, 0.862, 0.670));\n",
      "quad.slab.AddAtom(0, atomW, Vec3(0.988, 0.952, 0.104));\n",
      "quad.slab.AddAtom(0, atomW, Vec3(0.505, 0.319, 0.478));\n",
      "quad.slab.AddAtom(0, atomW, Vec3(0.274, 0.500, 0.723));\n",
      "quad.slab.AddAtom(0, atomW, Vec3(0.079, 0.709, 0.081));\n",
      "quad.slab.AddAtom(0, atomW, Vec3(0.970, 0.811, 0.242));\n",
      "quad.slab.AddAtom(0, atomW, Vec3(0.434, 0.113, 0.246));\n",
      "quad.slab.AddAtom(0, atomW, Vec3(0.402, 0.573, 0.634));\n",
      "quad.slab.AddAtom(0, atomW, Vec3(0.554, 0.104, 0.643));\n",
      "quad.slab.AddAtom(0, atomW, Vec3(0.106, 0.211, 0.679));\n",
      "quad.slab.AddAtom(0, atomW, Vec3(0.610, 0.975, 0.512));\n",
      "quad.slab.AddAtom(0, atomW, Vec3(0.345, 0.950, 0.445));\n",
      "quad.slab.AddAtom(0, atomW, Vec3(0.219, 0.026, 0.962));\n",
      "quad.slab.AddAtom(0, atomW, Vec3(0.280, 0.877, 0.784));\n",
      "quad.slab.AddAtom(0, atomW, Vec3(0.803, 0.203, 0.372));\n",
      "quad.slab.AddAtom(0, atomW, Vec3(0.494, 0.451, 0.755));\n",
      "quad.slab.AddAtom(0, atomW, Vec3(0.018, 0.666, 0.821));\n",
      "quad.slab.AddAtom(0, atomW, Vec3(0.432, 0.762, 0.955));\n",
      "quad.slab.AddAtom(0, atomW, Vec3(0.405, 0.105, 0.630));\n",
      "quad.slab.AddAtom(0, atomW, Vec3(0.832, 0.645, 0.243));\n",
      "quad.slab.AddAtom(0, atomW, Vec3(0.760, 0.012, 0.691));\n",
      "quad.slab.AddAtom(0, atomW, Vec3(0.459, 0.155, 0.992));\n",
      "quad.slab.AddAtom(0, atomW, Vec3(0.659, 0.630, 0.665));\n",
      "quad.slab.AddAtom(0, atomW, Vec3(0.932, 0.899, 0.013));\n",
      "quad.slab.AddAtom(0, atomW, Vec3(0.448, 0.109, 0.010));\n"
     ]
    }
   ],
   "source": [
    "def rand():\n",
    "    return np.random.rand(1)[0]\n",
    "\n",
    "for i in range(82):\n",
    "    print(\"quad.slab.AddAtom(0, atomW, Vec3({:.3f}, {:.3f}, {:.3f}));\".format(rand(), rand(), rand()))"
   ]
  },
  {
   "cell_type": "code",
   "execution_count": 47,
   "metadata": {
    "collapsed": false
   },
   "outputs": [
    {
     "name": "stdout",
     "output_type": "stream",
     "text": [
      "quad.slab.AddAtom(1, atomB4C, Vec3(0.183, 0.850, 0.689));\n",
      "quad.slab.AddAtom(1, atomB4C, Vec3(0.076, 0.081, 0.024));\n",
      "quad.slab.AddAtom(1, atomB4C, Vec3(0.654, 0.786, 0.789));\n",
      "quad.slab.AddAtom(1, atomB4C, Vec3(0.234, 0.874, 0.978));\n",
      "quad.slab.AddAtom(1, atomB4C, Vec3(0.067, 0.423, 0.704));\n",
      "quad.slab.AddAtom(1, atomB4C, Vec3(0.183, 0.528, 0.669));\n",
      "quad.slab.AddAtom(1, atomB4C, Vec3(0.270, 0.490, 0.472));\n",
      "quad.slab.AddAtom(1, atomB4C, Vec3(0.858, 0.595, 0.695));\n",
      "quad.slab.AddAtom(1, atomB4C, Vec3(0.800, 0.624, 0.121));\n",
      "quad.slab.AddAtom(1, atomB4C, Vec3(0.552, 0.886, 0.477));\n",
      "quad.slab.AddAtom(1, atomB4C, Vec3(0.707, 0.707, 0.864));\n",
      "quad.slab.AddAtom(1, atomB4C, Vec3(0.222, 0.361, 0.267));\n",
      "quad.slab.AddAtom(1, atomB4C, Vec3(0.157, 0.744, 0.913));\n",
      "quad.slab.AddAtom(1, atomB4C, Vec3(0.097, 0.746, 0.532));\n",
      "quad.slab.AddAtom(1, atomB4C, Vec3(0.305, 0.106, 0.007));\n",
      "quad.slab.AddAtom(1, atomB4C, Vec3(0.103, 0.402, 0.119));\n",
      "quad.slab.AddAtom(1, atomB4C, Vec3(0.355, 0.045, 0.493));\n",
      "quad.slab.AddAtom(1, atomB4C, Vec3(0.075, 0.167, 0.736));\n",
      "quad.slab.AddAtom(1, atomB4C, Vec3(0.863, 0.080, 0.893));\n",
      "quad.slab.AddAtom(1, atomB4C, Vec3(0.110, 0.603, 0.224));\n",
      "quad.slab.AddAtom(1, atomB4C, Vec3(0.267, 0.088, 0.029));\n",
      "quad.slab.AddAtom(1, atomB4C, Vec3(0.524, 0.152, 0.327));\n",
      "quad.slab.AddAtom(1, atomB4C, Vec3(0.584, 0.018, 0.283));\n",
      "quad.slab.AddAtom(1, atomB4C, Vec3(0.935, 0.558, 0.195));\n",
      "quad.slab.AddAtom(1, atomB4C, Vec3(0.251, 0.247, 0.153));\n",
      "quad.slab.AddAtom(1, atomB4C, Vec3(0.109, 0.225, 0.685));\n",
      "quad.slab.AddAtom(1, atomB4C, Vec3(0.323, 0.222, 0.817));\n",
      "quad.slab.AddAtom(1, atomB4C, Vec3(0.486, 0.422, 0.484));\n",
      "quad.slab.AddAtom(1, atomB4C, Vec3(0.911, 0.106, 0.268));\n",
      "quad.slab.AddAtom(1, atomB4C, Vec3(0.175, 0.143, 0.305));\n",
      "quad.slab.AddAtom(1, atomB4C, Vec3(0.439, 0.462, 0.244));\n",
      "quad.slab.AddAtom(1, atomB4C, Vec3(0.865, 0.083, 0.114));\n",
      "quad.slab.AddAtom(1, atomB4C, Vec3(0.456, 0.637, 0.595));\n",
      "quad.slab.AddAtom(1, atomB4C, Vec3(0.326, 0.926, 0.820));\n",
      "quad.slab.AddAtom(1, atomB4C, Vec3(0.648, 0.655, 0.640));\n",
      "quad.slab.AddAtom(1, atomB4C, Vec3(0.212, 0.781, 0.490));\n",
      "quad.slab.AddAtom(1, atomB4C, Vec3(0.165, 0.371, 0.949));\n",
      "quad.slab.AddAtom(1, atomB4C, Vec3(0.029, 0.736, 0.833));\n",
      "quad.slab.AddAtom(1, atomB4C, Vec3(0.638, 0.780, 0.034));\n",
      "quad.slab.AddAtom(1, atomB4C, Vec3(0.741, 0.989, 0.940));\n",
      "quad.slab.AddAtom(1, atomB4C, Vec3(0.401, 0.451, 0.935));\n",
      "quad.slab.AddAtom(1, atomB4C, Vec3(0.060, 0.917, 0.312));\n",
      "quad.slab.AddAtom(1, atomB4C, Vec3(0.012, 0.205, 0.231));\n",
      "quad.slab.AddAtom(1, atomB4C, Vec3(0.027, 0.793, 0.224));\n",
      "quad.slab.AddAtom(1, atomB4C, Vec3(0.792, 0.719, 0.593));\n",
      "quad.slab.AddAtom(1, atomB4C, Vec3(0.161, 0.499, 0.905));\n",
      "quad.slab.AddAtom(1, atomB4C, Vec3(0.841, 0.010, 0.461));\n",
      "quad.slab.AddAtom(1, atomB4C, Vec3(0.758, 0.639, 0.061));\n",
      "quad.slab.AddAtom(1, atomB4C, Vec3(0.172, 0.793, 0.616));\n",
      "quad.slab.AddAtom(1, atomB4C, Vec3(0.646, 0.964, 0.516));\n",
      "quad.slab.AddAtom(1, atomB4C, Vec3(0.576, 0.964, 0.780));\n",
      "quad.slab.AddAtom(1, atomB4C, Vec3(0.595, 0.875, 0.296));\n",
      "quad.slab.AddAtom(1, atomB4C, Vec3(0.428, 0.187, 0.783));\n",
      "quad.slab.AddAtom(1, atomB4C, Vec3(0.345, 0.451, 0.272));\n",
      "quad.slab.AddAtom(1, atomB4C, Vec3(0.500, 0.403, 0.031));\n",
      "quad.slab.AddAtom(1, atomB4C, Vec3(0.523, 0.558, 0.471));\n",
      "quad.slab.AddAtom(1, atomB4C, Vec3(0.158, 0.847, 0.952));\n",
      "quad.slab.AddAtom(1, atomB4C, Vec3(0.059, 0.913, 0.216));\n",
      "quad.slab.AddAtom(1, atomB4C, Vec3(0.266, 0.311, 0.595));\n",
      "quad.slab.AddAtom(1, atomB4C, Vec3(0.736, 0.960, 0.458));\n",
      "quad.slab.AddAtom(1, atomB4C, Vec3(0.975, 0.745, 0.223));\n",
      "quad.slab.AddAtom(1, atomB4C, Vec3(0.514, 0.082, 0.958));\n",
      "quad.slab.AddAtom(1, atomB4C, Vec3(0.454, 0.393, 0.098));\n",
      "quad.slab.AddAtom(1, atomB4C, Vec3(0.122, 0.411, 0.349));\n",
      "quad.slab.AddAtom(1, atomB4C, Vec3(0.397, 0.782, 0.946));\n",
      "quad.slab.AddAtom(1, atomB4C, Vec3(0.972, 0.539, 0.559));\n",
      "quad.slab.AddAtom(1, atomB4C, Vec3(0.111, 0.802, 0.926));\n",
      "quad.slab.AddAtom(1, atomB4C, Vec3(0.919, 0.955, 0.003));\n",
      "quad.slab.AddAtom(1, atomB4C, Vec3(0.114, 0.780, 0.436));\n",
      "quad.slab.AddAtom(1, atomB4C, Vec3(0.851, 0.632, 0.705));\n",
      "quad.slab.AddAtom(1, atomB4C, Vec3(0.099, 0.613, 0.462));\n",
      "quad.slab.AddAtom(1, atomB4C, Vec3(0.381, 0.547, 0.127));\n",
      "quad.slab.AddAtom(1, atomB4C, Vec3(0.949, 0.813, 0.877));\n",
      "quad.slab.AddAtom(1, atomB4C, Vec3(0.862, 0.080, 0.966));\n",
      "quad.slab.AddAtom(1, atomB4C, Vec3(0.293, 0.080, 0.578));\n",
      "quad.slab.AddAtom(1, atomB4C, Vec3(0.623, 0.377, 0.763));\n",
      "quad.slab.AddAtom(1, atomB4C, Vec3(0.475, 0.079, 0.689));\n",
      "quad.slab.AddAtom(1, atomB4C, Vec3(0.352, 0.243, 0.006));\n",
      "quad.slab.AddAtom(1, atomB4C, Vec3(0.702, 0.619, 0.279));\n",
      "quad.slab.AddAtom(1, atomB4C, Vec3(0.987, 0.716, 0.708));\n",
      "quad.slab.AddAtom(1, atomB4C, Vec3(0.005, 0.899, 0.676));\n",
      "quad.slab.AddAtom(1, atomB4C, Vec3(0.414, 0.342, 0.594));\n",
      "quad.slab.AddAtom(1, atomB4C, Vec3(0.244, 0.405, 0.467));\n",
      "quad.slab.AddAtom(1, atomB4C, Vec3(0.605, 0.404, 0.151));\n",
      "quad.slab.AddAtom(1, atomB4C, Vec3(0.612, 0.759, 0.151));\n",
      "quad.slab.AddAtom(1, atomB4C, Vec3(0.126, 0.879, 0.053));\n",
      "quad.slab.AddAtom(1, atomB4C, Vec3(0.034, 0.832, 0.395));\n",
      "quad.slab.AddAtom(1, atomB4C, Vec3(0.976, 0.939, 0.207));\n",
      "quad.slab.AddAtom(1, atomB4C, Vec3(0.901, 0.230, 0.364));\n",
      "quad.slab.AddAtom(1, atomB4C, Vec3(0.957, 0.039, 0.018));\n",
      "quad.slab.AddAtom(1, atomB4C, Vec3(0.474, 0.995, 0.160));\n",
      "quad.slab.AddAtom(1, atomB4C, Vec3(0.139, 0.595, 0.574));\n",
      "quad.slab.AddAtom(1, atomB4C, Vec3(0.527, 0.934, 0.906));\n",
      "quad.slab.AddAtom(1, atomB4C, Vec3(0.291, 0.780, 0.878));\n",
      "quad.slab.AddAtom(1, atomB4C, Vec3(0.800, 0.294, 0.627));\n",
      "quad.slab.AddAtom(1, atomB4C, Vec3(0.805, 0.406, 0.531));\n",
      "quad.slab.AddAtom(1, atomB4C, Vec3(0.677, 0.819, 0.028));\n",
      "quad.slab.AddAtom(1, atomB4C, Vec3(0.008, 0.537, 0.507));\n",
      "quad.slab.AddAtom(1, atomB4C, Vec3(0.125, 0.494, 0.853));\n",
      "quad.slab.AddAtom(1, atomB4C, Vec3(0.102, 0.462, 0.015));\n",
      "quad.slab.AddAtom(1, atomB4C, Vec3(0.996, 0.589, 0.543));\n",
      "quad.slab.AddAtom(1, atomB4C, Vec3(0.004, 0.634, 0.746));\n",
      "quad.slab.AddAtom(1, atomB4C, Vec3(0.984, 0.035, 0.687));\n",
      "quad.slab.AddAtom(1, atomB4C, Vec3(0.566, 0.529, 0.342));\n",
      "quad.slab.AddAtom(1, atomB4C, Vec3(0.116, 0.704, 0.197));\n",
      "quad.slab.AddAtom(1, atomB4C, Vec3(0.029, 0.342, 0.853));\n",
      "quad.slab.AddAtom(1, atomB4C, Vec3(0.837, 0.794, 0.476));\n",
      "quad.slab.AddAtom(1, atomB4C, Vec3(0.587, 0.243, 0.501));\n",
      "quad.slab.AddAtom(1, atomB4C, Vec3(0.731, 0.387, 0.587));\n",
      "quad.slab.AddAtom(1, atomB4C, Vec3(0.405, 0.186, 0.365));\n",
      "quad.slab.AddAtom(1, atomB4C, Vec3(0.586, 0.050, 0.318));\n",
      "quad.slab.AddAtom(1, atomB4C, Vec3(0.895, 0.280, 0.194));\n",
      "quad.slab.AddAtom(1, atomB4C, Vec3(0.714, 0.209, 0.494));\n",
      "quad.slab.AddAtom(1, atomB4C, Vec3(0.760, 0.684, 0.570));\n",
      "quad.slab.AddAtom(1, atomB4C, Vec3(0.270, 0.851, 0.935));\n",
      "quad.slab.AddAtom(1, atomB4C, Vec3(0.075, 0.895, 0.349));\n",
      "quad.slab.AddAtom(1, atomB4C, Vec3(0.010, 0.327, 0.423));\n",
      "quad.slab.AddAtom(1, atomB4C, Vec3(0.973, 0.424, 0.504));\n",
      "quad.slab.AddAtom(1, atomB4C, Vec3(0.609, 0.853, 0.925));\n",
      "quad.slab.AddAtom(1, atomB4C, Vec3(0.495, 0.761, 0.743));\n",
      "quad.slab.AddAtom(1, atomB4C, Vec3(0.832, 0.430, 0.796));\n",
      "quad.slab.AddAtom(1, atomB4C, Vec3(0.743, 0.075, 0.529));\n",
      "quad.slab.AddAtom(1, atomB4C, Vec3(0.378, 0.057, 0.562));\n",
      "quad.slab.AddAtom(1, atomB4C, Vec3(0.866, 0.122, 0.943));\n",
      "quad.slab.AddAtom(1, atomB4C, Vec3(0.583, 0.262, 0.905));\n",
      "quad.slab.AddAtom(1, atomB4C, Vec3(0.866, 0.476, 0.864));\n",
      "quad.slab.AddAtom(1, atomB4C, Vec3(0.696, 0.958, 0.249));\n",
      "quad.slab.AddAtom(1, atomB4C, Vec3(0.332, 0.833, 0.703));\n",
      "quad.slab.AddAtom(1, atomB4C, Vec3(0.575, 0.168, 0.240));\n",
      "quad.slab.AddAtom(1, atomB4C, Vec3(0.762, 0.747, 0.048));\n",
      "quad.slab.AddAtom(1, atomB4C, Vec3(0.532, 0.121, 0.566));\n",
      "quad.slab.AddAtom(1, atomB4C, Vec3(0.020, 0.941, 0.393));\n",
      "quad.slab.AddAtom(1, atomB4C, Vec3(0.292, 0.939, 0.827));\n",
      "quad.slab.AddAtom(1, atomB4C, Vec3(0.088, 0.843, 0.251));\n",
      "quad.slab.AddAtom(1, atomB4C, Vec3(0.061, 0.360, 0.312));\n",
      "quad.slab.AddAtom(1, atomB4C, Vec3(0.277, 0.611, 0.302));\n",
      "quad.slab.AddAtom(1, atomB4C, Vec3(0.647, 0.186, 0.497));\n",
      "quad.slab.AddAtom(1, atomB4C, Vec3(0.911, 0.787, 0.225));\n",
      "quad.slab.AddAtom(1, atomB4C, Vec3(0.624, 0.674, 0.028));\n",
      "quad.slab.AddAtom(1, atomB4C, Vec3(0.274, 0.282, 0.880));\n",
      "quad.slab.AddAtom(1, atomB4C, Vec3(0.494, 0.807, 0.522));\n",
      "quad.slab.AddAtom(1, atomB4C, Vec3(0.243, 0.273, 0.477));\n",
      "quad.slab.AddAtom(1, atomB4C, Vec3(0.098, 0.635, 0.625));\n",
      "quad.slab.AddAtom(1, atomB4C, Vec3(0.823, 0.707, 0.860));\n",
      "quad.slab.AddAtom(1, atomB4C, Vec3(0.491, 0.929, 0.955));\n",
      "quad.slab.AddAtom(1, atomB4C, Vec3(0.056, 0.706, 0.667));\n",
      "quad.slab.AddAtom(1, atomB4C, Vec3(0.381, 0.721, 0.104));\n",
      "quad.slab.AddAtom(1, atomB4C, Vec3(0.387, 0.414, 0.707));\n",
      "quad.slab.AddAtom(1, atomB4C, Vec3(0.335, 0.178, 0.194));\n",
      "quad.slab.AddAtom(1, atomB4C, Vec3(0.428, 0.390, 0.283));\n",
      "quad.slab.AddAtom(1, atomB4C, Vec3(0.270, 0.901, 0.376));\n",
      "quad.slab.AddAtom(1, atomB4C, Vec3(0.980, 0.863, 0.784));\n",
      "quad.slab.AddAtom(1, atomB4C, Vec3(0.380, 0.465, 0.166));\n",
      "quad.slab.AddAtom(1, atomB4C, Vec3(0.417, 0.412, 0.091));\n",
      "quad.slab.AddAtom(1, atomB4C, Vec3(0.443, 0.635, 0.784));\n",
      "quad.slab.AddAtom(1, atomB4C, Vec3(0.681, 0.838, 0.186));\n",
      "quad.slab.AddAtom(1, atomB4C, Vec3(0.571, 0.981, 0.475));\n",
      "quad.slab.AddAtom(1, atomB4C, Vec3(0.371, 0.128, 0.056));\n",
      "quad.slab.AddAtom(1, atomB4C, Vec3(0.780, 0.829, 0.561));\n",
      "quad.slab.AddAtom(1, atomB4C, Vec3(0.549, 0.159, 0.166));\n",
      "quad.slab.AddAtom(1, atomB4C, Vec3(0.332, 0.505, 0.356));\n",
      "quad.slab.AddAtom(1, atomB4C, Vec3(0.056, 0.704, 0.735));\n",
      "quad.slab.AddAtom(1, atomB4C, Vec3(0.795, 0.913, 0.844));\n",
      "quad.slab.AddAtom(1, atomB4C, Vec3(0.953, 0.819, 0.324));\n",
      "quad.slab.AddAtom(1, atomB4C, Vec3(0.445, 0.957, 0.802));\n",
      "quad.slab.AddAtom(1, atomB4C, Vec3(0.957, 0.370, 0.262));\n",
      "quad.slab.AddAtom(1, atomB4C, Vec3(0.750, 0.057, 0.900));\n",
      "quad.slab.AddAtom(1, atomB4C, Vec3(0.087, 0.898, 0.039));\n",
      "quad.slab.AddAtom(1, atomB4C, Vec3(0.621, 0.878, 0.961));\n",
      "quad.slab.AddAtom(1, atomB4C, Vec3(0.395, 0.124, 0.044));\n",
      "quad.slab.AddAtom(1, atomB4C, Vec3(0.527, 0.412, 0.592));\n",
      "quad.slab.AddAtom(1, atomB4C, Vec3(0.826, 0.091, 0.017));\n",
      "quad.slab.AddAtom(1, atomB4C, Vec3(0.879, 0.841, 0.714));\n",
      "quad.slab.AddAtom(1, atomB4C, Vec3(0.401, 0.316, 0.188));\n",
      "quad.slab.AddAtom(1, atomB4C, Vec3(0.444, 0.964, 0.783));\n",
      "quad.slab.AddAtom(1, atomB4C, Vec3(0.783, 0.851, 0.230));\n",
      "quad.slab.AddAtom(1, atomB4C, Vec3(0.201, 0.980, 0.372));\n",
      "quad.slab.AddAtom(1, atomB4C, Vec3(0.278, 0.850, 0.684));\n",
      "quad.slab.AddAtom(1, atomB4C, Vec3(0.904, 0.511, 0.113));\n",
      "quad.slab.AddAtom(1, atomB4C, Vec3(0.609, 0.081, 0.349));\n",
      "quad.slab.AddAtom(1, atomB4C, Vec3(0.223, 0.738, 0.524));\n",
      "quad.slab.AddAtom(1, atomB4C, Vec3(0.115, 0.180, 0.605));\n",
      "quad.slab.AddAtom(1, atomB4C, Vec3(0.216, 0.209, 0.560));\n",
      "quad.slab.AddAtom(1, atomB4C, Vec3(0.022, 0.479, 0.903));\n",
      "quad.slab.AddAtom(1, atomB4C, Vec3(0.146, 0.493, 0.068));\n",
      "quad.slab.AddAtom(1, atomB4C, Vec3(0.045, 0.052, 0.548));\n",
      "quad.slab.AddAtom(1, atomB4C, Vec3(0.001, 0.303, 0.126));\n",
      "quad.slab.AddAtom(1, atomB4C, Vec3(0.808, 0.197, 0.399));\n",
      "quad.slab.AddAtom(1, atomB4C, Vec3(0.354, 0.719, 0.258));\n",
      "quad.slab.AddAtom(1, atomB4C, Vec3(0.336, 0.180, 0.213));\n",
      "quad.slab.AddAtom(1, atomB4C, Vec3(0.975, 0.677, 0.397));\n",
      "quad.slab.AddAtom(1, atomB4C, Vec3(0.406, 0.600, 0.841));\n",
      "quad.slab.AddAtom(1, atomB4C, Vec3(0.027, 0.430, 0.154));\n",
      "quad.slab.AddAtom(1, atomB4C, Vec3(0.594, 0.128, 0.302));\n",
      "quad.slab.AddAtom(1, atomB4C, Vec3(0.217, 0.684, 0.169));\n",
      "quad.slab.AddAtom(1, atomB4C, Vec3(0.714, 0.388, 0.243));\n",
      "quad.slab.AddAtom(1, atomB4C, Vec3(0.654, 0.165, 0.830));\n",
      "quad.slab.AddAtom(1, atomB4C, Vec3(0.588, 0.898, 0.995));\n",
      "quad.slab.AddAtom(1, atomB4C, Vec3(0.108, 0.345, 0.910));\n",
      "quad.slab.AddAtom(1, atomB4C, Vec3(0.776, 0.790, 0.361));\n",
      "quad.slab.AddAtom(1, atomB4C, Vec3(0.059, 0.729, 0.769));\n",
      "quad.slab.AddAtom(1, atomB4C, Vec3(0.566, 0.121, 0.331));\n",
      "quad.slab.AddAtom(1, atomB4C, Vec3(0.922, 0.499, 0.173));\n",
      "quad.slab.AddAtom(1, atomB4C, Vec3(0.809, 0.353, 0.854));\n",
      "quad.slab.AddAtom(1, atomB4C, Vec3(0.915, 0.980, 0.663));\n",
      "quad.slab.AddAtom(1, atomB4C, Vec3(0.417, 0.253, 0.969));\n",
      "quad.slab.AddAtom(1, atomB4C, Vec3(0.719, 0.675, 0.608));\n",
      "quad.slab.AddAtom(1, atomB4C, Vec3(0.046, 0.604, 0.677));\n",
      "quad.slab.AddAtom(1, atomB4C, Vec3(0.504, 0.035, 0.344));\n",
      "quad.slab.AddAtom(1, atomB4C, Vec3(0.124, 0.229, 0.041));\n",
      "quad.slab.AddAtom(1, atomB4C, Vec3(0.088, 0.093, 0.654));\n",
      "quad.slab.AddAtom(1, atomB4C, Vec3(0.810, 0.904, 0.248));\n",
      "quad.slab.AddAtom(1, atomB4C, Vec3(0.216, 0.436, 0.638));\n",
      "quad.slab.AddAtom(1, atomB4C, Vec3(0.542, 0.845, 0.147));\n",
      "quad.slab.AddAtom(1, atomB4C, Vec3(0.789, 0.548, 0.883));\n",
      "quad.slab.AddAtom(1, atomB4C, Vec3(0.371, 0.852, 0.893));\n",
      "quad.slab.AddAtom(1, atomB4C, Vec3(0.265, 0.237, 0.314));\n",
      "quad.slab.AddAtom(1, atomB4C, Vec3(0.747, 0.551, 0.771));\n"
     ]
    }
   ],
   "source": [
    "def rand():\n",
    "    return np.random.rand(1)[0]\n",
    "\n",
    "for i in range(218):\n",
    "    print(\"quad.slab.AddAtom(1, atomB4C, Vec3({:.3f}, {:.3f}, {:.3f}));\".format(rand(), rand(), rand()))"
   ]
  },
  {
   "cell_type": "code",
   "execution_count": null,
   "metadata": {
    "collapsed": true
   },
   "outputs": [],
   "source": []
  }
 ],
 "metadata": {
  "kernelspec": {
   "display_name": "Python 3",
   "language": "python",
   "name": "python3"
  },
  "language_info": {
   "codemirror_mode": {
    "name": "ipython",
    "version": 3
   },
   "file_extension": ".py",
   "mimetype": "text/x-python",
   "name": "python",
   "nbconvert_exporter": "python",
   "pygments_lexer": "ipython3",
   "version": "3.6.1"
  }
 },
 "nbformat": 4,
 "nbformat_minor": 2
}
